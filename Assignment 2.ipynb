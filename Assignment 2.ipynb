{
 "cells": [
  {
   "cell_type": "markdown",
   "id": "95a63287-8a9b-466d-bdde-4fd34c96af80",
   "metadata": {},
   "source": [
    "# 1 Ques :\n",
    "# We can  comment code in Python by using hashtag '#' symbol.\n",
    "# types of comments:\n",
    "          # - single line comment  \n",
    "         #  - '''multi line comment'''\n",
    "\n"
   ]
  },
  {
   "cell_type": "markdown",
   "id": "0c1d1c1d-c05e-483f-ade7-af6ebc0c41e4",
   "metadata": {},
   "source": [
    "#2 que :  A variable is a name given to a memory location that stores a value.\n",
    "\"\"\"You do not need to declare variables before using them\n",
    "To declare and assign values to variables in Python, you can use the following syntax\n",
    "Variable=name=value\"\"\""
   ]
  },
  {
   "cell_type": "markdown",
   "id": "7a9e713c-8d65-44e1-877a-ad14e29b6de2",
   "metadata": {},
   "source": [
    "#3 que : we can convert one data type to anoter by using built-in function such as ing(), flot(),str()"
   ]
  },
  {
   "cell_type": "markdown",
   "id": "8969e2ff-8702-4b0f-8b2d-7409ae8e089d",
   "metadata": {},
   "source": [
    "4 que - \n",
    "a.Open a text editor and write your Python code.\n",
    "\n",
    "b.Save the file with a .py extension.\n",
    "\n",
    "c.Open the command prompt or terminal.\n",
    "\n",
    "d.Navigate to the directory where you saved your Python file.\n",
    "\n",
    "e.Type python filename.py and press Enter to execute the script."
   ]
  },
  {
   "cell_type": "code",
   "execution_count": 8,
   "id": "88376ab8-34d7-47bf-bb82-2a7b43c898a9",
   "metadata": {},
   "outputs": [],
   "source": [
    "#5 que\n",
    "my_list=[1,2,3,4,5]  "
   ]
  },
  {
   "cell_type": "code",
   "execution_count": 9,
   "id": "818466a4-d0fd-47b8-bbe6-70bd828c86c7",
   "metadata": {},
   "outputs": [
    {
     "data": {
      "text/plain": [
       "[1, 2, 3, 4, 5]"
      ]
     },
     "execution_count": 9,
     "metadata": {},
     "output_type": "execute_result"
    }
   ],
   "source": [
    "my_list[0:]"
   ]
  },
  {
   "cell_type": "code",
   "execution_count": 10,
   "id": "39540a06-9b49-4a04-9e03-10519b416907",
   "metadata": {},
   "outputs": [
    {
     "data": {
      "text/plain": [
       "[2, 3]"
      ]
     },
     "execution_count": 10,
     "metadata": {},
     "output_type": "execute_result"
    }
   ],
   "source": [
    "my_list[1:3]"
   ]
  },
  {
   "cell_type": "code",
   "execution_count": 13,
   "id": "7f928259-c8bf-4ce1-be98-60717531ce6b",
   "metadata": {},
   "outputs": [],
   "source": [
    "#6 que\n",
    "#complex number is combination of real and imaginary number\n",
    "number=complex(2,3)"
   ]
  },
  {
   "cell_type": "code",
   "execution_count": 14,
   "id": "c901d5d2-c5e1-4b5d-a159-5ad57d1d5e4b",
   "metadata": {},
   "outputs": [
    {
     "name": "stdout",
     "output_type": "stream",
     "text": [
      "(2+3j)\n"
     ]
    }
   ],
   "source": [
    "print(number)"
   ]
  },
  {
   "cell_type": "code",
   "execution_count": 15,
   "id": "a4014292-76ac-408d-838c-8ec7b5880dbd",
   "metadata": {},
   "outputs": [],
   "source": [
    "#7 que\n",
    "age=25"
   ]
  },
  {
   "cell_type": "code",
   "execution_count": 16,
   "id": "2dcf9cbb-2fa2-4376-af6d-aab9bf0be6b5",
   "metadata": {},
   "outputs": [
    {
     "name": "stdout",
     "output_type": "stream",
     "text": [
      "25\n"
     ]
    }
   ],
   "source": [
    "print(age)"
   ]
  },
  {
   "cell_type": "code",
   "execution_count": 17,
   "id": "bd246d66-276d-4055-a430-0e9c5cc747f0",
   "metadata": {},
   "outputs": [],
   "source": [
    "#8 que\n",
    "price=9.99"
   ]
  },
  {
   "cell_type": "code",
   "execution_count": 18,
   "id": "d4394e85-432a-4f51-8ca7-5ad073eef766",
   "metadata": {},
   "outputs": [
    {
     "data": {
      "text/plain": [
       "float"
      ]
     },
     "execution_count": 18,
     "metadata": {},
     "output_type": "execute_result"
    }
   ],
   "source": [
    "type(price)"
   ]
  },
  {
   "cell_type": "code",
   "execution_count": 19,
   "id": "a9f32c45-8b0d-4886-aea2-3534c182ac79",
   "metadata": {},
   "outputs": [],
   "source": [
    "#9 que\n",
    "name='Devti Sharma'"
   ]
  },
  {
   "cell_type": "code",
   "execution_count": 20,
   "id": "0f4b3094-bd76-4f47-afa9-748e964aa06f",
   "metadata": {},
   "outputs": [
    {
     "name": "stdout",
     "output_type": "stream",
     "text": [
      "Devti Sharma\n"
     ]
    }
   ],
   "source": [
    "print(name)"
   ]
  },
  {
   "cell_type": "code",
   "execution_count": 21,
   "id": "337f9b8d-0a80-4a43-a0c2-bda4287e20f3",
   "metadata": {},
   "outputs": [],
   "source": [
    "#10 que\n",
    "string=\"Hello, World!\""
   ]
  },
  {
   "cell_type": "code",
   "execution_count": 22,
   "id": "f97abf28-e7a0-462c-901b-daf138d18b71",
   "metadata": {},
   "outputs": [
    {
     "data": {
      "text/plain": [
       "'World'"
      ]
     },
     "execution_count": 22,
     "metadata": {},
     "output_type": "execute_result"
    }
   ],
   "source": [
    "string[7:12]"
   ]
  },
  {
   "cell_type": "code",
   "execution_count": 23,
   "id": "460d82d2-a506-4e92-9069-92a040f64236",
   "metadata": {},
   "outputs": [],
   "source": [
    "#11 que\n",
    "is_student=True"
   ]
  },
  {
   "cell_type": "code",
   "execution_count": 24,
   "id": "e1b265c7-c8ae-446a-8b4e-abe2eb3d3844",
   "metadata": {},
   "outputs": [
    {
     "data": {
      "text/plain": [
       "bool"
      ]
     },
     "execution_count": 24,
     "metadata": {},
     "output_type": "execute_result"
    }
   ],
   "source": [
    "type(is_student)"
   ]
  },
  {
   "cell_type": "code",
   "execution_count": null,
   "id": "a394a7c7-4c8f-4c98-ade1-6accbab06471",
   "metadata": {},
   "outputs": [],
   "source": []
  }
 ],
 "metadata": {
  "kernelspec": {
   "display_name": "Python 3 (ipykernel)",
   "language": "python",
   "name": "python3"
  },
  "language_info": {
   "codemirror_mode": {
    "name": "ipython",
    "version": 3
   },
   "file_extension": ".py",
   "mimetype": "text/x-python",
   "name": "python",
   "nbconvert_exporter": "python",
   "pygments_lexer": "ipython3",
   "version": "3.10.8"
  }
 },
 "nbformat": 4,
 "nbformat_minor": 5
}
